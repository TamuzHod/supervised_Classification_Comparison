{
 "cells": [
  {
   "cell_type": "code",
   "execution_count": 1,
   "metadata": {},
   "outputs": [],
   "source": [
    "import pandas as pd\n",
    "import numpy as np\n",
    "import sys, os\n",
    "\n",
    "import matplotlib.pyplot as plt\n",
    "from sklearn import datasets\n",
    "import scipy\n",
    "from matplotlib.colors import ListedColormap\n",
    "from functools import partial"
   ]
  },
  {
   "cell_type": "code",
   "execution_count": 2,
   "metadata": {},
   "outputs": [],
   "source": [
    "np.random.seed(5)               # Set the random seed."
   ]
  },
  {
   "cell_type": "code",
   "execution_count": 3,
   "metadata": {},
   "outputs": [],
   "source": [
    "datasets = {0:'tic_tac',1:'adult',2:'cloud',3:'my_dota',4:'uci_data'}\n",
    "# choses via random dieroll\n",
    "random_seeds = [3,6,1,5,2,2,1,5,2,6]"
   ]
  },
  {
   "cell_type": "code",
   "execution_count": 4,
   "metadata": {},
   "outputs": [],
   "source": [
    "cloud_data = pd.read_pickle(\"./data/cloud_data_sample.pkl\")  "
   ]
  },
  {
   "cell_type": "code",
   "execution_count": 5,
   "metadata": {},
   "outputs": [],
   "source": [
    "cloud_data = cloud_data.sample(n=500, random_state=22)"
   ]
  },
  {
   "cell_type": "code",
   "execution_count": null,
   "metadata": {},
   "outputs": [],
   "source": []
  },
  {
   "cell_type": "code",
   "execution_count": 6,
   "metadata": {},
   "outputs": [],
   "source": [
    "uci_dota = pd.read_pickle(\"./data/uci_dota_sample.pkl\")  \n",
    "uci_dota = uci_dota.sample(n=500, random_state=22)"
   ]
  },
  {
   "cell_type": "code",
   "execution_count": 7,
   "metadata": {},
   "outputs": [],
   "source": [
    "my_dota = pd.read_pickle(\"./data/my_dota.pkl\")  \n",
    "my_dota = my_dota.sample(n=500, random_state=22)"
   ]
  },
  {
   "cell_type": "code",
   "execution_count": 8,
   "metadata": {},
   "outputs": [],
   "source": [
    "adult_data = pd.read_csv(\"./data/adult_data.csv\")    \n",
    "adult_data['class'] = adult_data['class'].where(adult_data['class'] == adult_data['class'][0], 1)\n",
    "adult_data['class'] = adult_data['class'].where(adult_data['class'] == 1, -1)\n",
    "adult_data= adult_data.sample(n=500, random_state=22)"
   ]
  },
  {
   "cell_type": "code",
   "execution_count": 9,
   "metadata": {},
   "outputs": [
    {
     "data": {
      "text/html": [
       "<div>\n",
       "<style scoped>\n",
       "    .dataframe tbody tr th:only-of-type {\n",
       "        vertical-align: middle;\n",
       "    }\n",
       "\n",
       "    .dataframe tbody tr th {\n",
       "        vertical-align: top;\n",
       "    }\n",
       "\n",
       "    .dataframe thead th {\n",
       "        text-align: right;\n",
       "    }\n",
       "</style>\n",
       "<table border=\"1\" class=\"dataframe\">\n",
       "  <thead>\n",
       "    <tr style=\"text-align: right;\">\n",
       "      <th></th>\n",
       "      <th>x_won</th>\n",
       "      <th>t_l_b</th>\n",
       "      <th>t_l_o</th>\n",
       "      <th>t_l_x</th>\n",
       "      <th>t_m_b</th>\n",
       "      <th>t_m_o</th>\n",
       "      <th>t_m_x</th>\n",
       "      <th>t_r_b</th>\n",
       "      <th>t_r_o</th>\n",
       "      <th>t_r_x</th>\n",
       "      <th>...</th>\n",
       "      <th>m_r_x</th>\n",
       "      <th>b_l_b</th>\n",
       "      <th>b_l_o</th>\n",
       "      <th>b_l_x</th>\n",
       "      <th>b_m_b</th>\n",
       "      <th>b_m_o</th>\n",
       "      <th>b_m_x</th>\n",
       "      <th>b_r_b</th>\n",
       "      <th>b_r_o</th>\n",
       "      <th>b_r_x</th>\n",
       "    </tr>\n",
       "  </thead>\n",
       "  <tbody>\n",
       "    <tr>\n",
       "      <th>0</th>\n",
       "      <td>1</td>\n",
       "      <td>0</td>\n",
       "      <td>0</td>\n",
       "      <td>1</td>\n",
       "      <td>0</td>\n",
       "      <td>0</td>\n",
       "      <td>1</td>\n",
       "      <td>0</td>\n",
       "      <td>0</td>\n",
       "      <td>1</td>\n",
       "      <td>...</td>\n",
       "      <td>0</td>\n",
       "      <td>0</td>\n",
       "      <td>0</td>\n",
       "      <td>1</td>\n",
       "      <td>0</td>\n",
       "      <td>1</td>\n",
       "      <td>0</td>\n",
       "      <td>0</td>\n",
       "      <td>1</td>\n",
       "      <td>0</td>\n",
       "    </tr>\n",
       "    <tr>\n",
       "      <th>1</th>\n",
       "      <td>1</td>\n",
       "      <td>0</td>\n",
       "      <td>0</td>\n",
       "      <td>1</td>\n",
       "      <td>0</td>\n",
       "      <td>0</td>\n",
       "      <td>1</td>\n",
       "      <td>0</td>\n",
       "      <td>0</td>\n",
       "      <td>1</td>\n",
       "      <td>...</td>\n",
       "      <td>0</td>\n",
       "      <td>0</td>\n",
       "      <td>1</td>\n",
       "      <td>0</td>\n",
       "      <td>0</td>\n",
       "      <td>0</td>\n",
       "      <td>1</td>\n",
       "      <td>0</td>\n",
       "      <td>1</td>\n",
       "      <td>0</td>\n",
       "    </tr>\n",
       "    <tr>\n",
       "      <th>2</th>\n",
       "      <td>1</td>\n",
       "      <td>0</td>\n",
       "      <td>0</td>\n",
       "      <td>1</td>\n",
       "      <td>0</td>\n",
       "      <td>0</td>\n",
       "      <td>1</td>\n",
       "      <td>0</td>\n",
       "      <td>0</td>\n",
       "      <td>1</td>\n",
       "      <td>...</td>\n",
       "      <td>0</td>\n",
       "      <td>0</td>\n",
       "      <td>1</td>\n",
       "      <td>0</td>\n",
       "      <td>0</td>\n",
       "      <td>1</td>\n",
       "      <td>0</td>\n",
       "      <td>0</td>\n",
       "      <td>0</td>\n",
       "      <td>1</td>\n",
       "    </tr>\n",
       "    <tr>\n",
       "      <th>3</th>\n",
       "      <td>1</td>\n",
       "      <td>0</td>\n",
       "      <td>0</td>\n",
       "      <td>1</td>\n",
       "      <td>0</td>\n",
       "      <td>0</td>\n",
       "      <td>1</td>\n",
       "      <td>0</td>\n",
       "      <td>0</td>\n",
       "      <td>1</td>\n",
       "      <td>...</td>\n",
       "      <td>0</td>\n",
       "      <td>0</td>\n",
       "      <td>1</td>\n",
       "      <td>0</td>\n",
       "      <td>1</td>\n",
       "      <td>0</td>\n",
       "      <td>0</td>\n",
       "      <td>1</td>\n",
       "      <td>0</td>\n",
       "      <td>0</td>\n",
       "    </tr>\n",
       "    <tr>\n",
       "      <th>4</th>\n",
       "      <td>1</td>\n",
       "      <td>0</td>\n",
       "      <td>0</td>\n",
       "      <td>1</td>\n",
       "      <td>0</td>\n",
       "      <td>0</td>\n",
       "      <td>1</td>\n",
       "      <td>0</td>\n",
       "      <td>0</td>\n",
       "      <td>1</td>\n",
       "      <td>...</td>\n",
       "      <td>0</td>\n",
       "      <td>1</td>\n",
       "      <td>0</td>\n",
       "      <td>0</td>\n",
       "      <td>0</td>\n",
       "      <td>1</td>\n",
       "      <td>0</td>\n",
       "      <td>1</td>\n",
       "      <td>0</td>\n",
       "      <td>0</td>\n",
       "    </tr>\n",
       "  </tbody>\n",
       "</table>\n",
       "<p>5 rows × 28 columns</p>\n",
       "</div>"
      ],
      "text/plain": [
       "  x_won  t_l_b  t_l_o  t_l_x  t_m_b  t_m_o  t_m_x  t_r_b  t_r_o  t_r_x  ...  \\\n",
       "0     1      0      0      1      0      0      1      0      0      1  ...   \n",
       "1     1      0      0      1      0      0      1      0      0      1  ...   \n",
       "2     1      0      0      1      0      0      1      0      0      1  ...   \n",
       "3     1      0      0      1      0      0      1      0      0      1  ...   \n",
       "4     1      0      0      1      0      0      1      0      0      1  ...   \n",
       "\n",
       "   m_r_x  b_l_b  b_l_o  b_l_x  b_m_b  b_m_o  b_m_x  b_r_b  b_r_o  b_r_x  \n",
       "0      0      0      0      1      0      1      0      0      1      0  \n",
       "1      0      0      1      0      0      0      1      0      1      0  \n",
       "2      0      0      1      0      0      1      0      0      0      1  \n",
       "3      0      0      1      0      1      0      0      1      0      0  \n",
       "4      0      1      0      0      0      1      0      1      0      0  \n",
       "\n",
       "[5 rows x 28 columns]"
      ]
     },
     "execution_count": 9,
     "metadata": {},
     "output_type": "execute_result"
    }
   ],
   "source": [
    "tic_tac_data = pd.read_pickle(\"./data/tic_tac_data.pkl\")  \n",
    "tic_tac_data.head()"
   ]
  },
  {
   "cell_type": "code",
   "execution_count": null,
   "metadata": {},
   "outputs": [],
   "source": []
  },
  {
   "cell_type": "code",
   "execution_count": 10,
   "metadata": {},
   "outputs": [],
   "source": [
    "X = []\n",
    "X.append(tic_tac_data.drop(columns='x_won'))\n",
    "X.append(adult_data.drop(columns='class'))\n",
    "X.append(cloud_data.drop(columns='binary_class'))\n",
    "X.append(my_dota.drop(columns='team_won'))\n",
    "X.append(uci_dota.drop(columns='team_won'))\n"
   ]
  },
  {
   "cell_type": "code",
   "execution_count": 11,
   "metadata": {},
   "outputs": [],
   "source": [
    "Y = []\n",
    "Y.append(tic_tac_data['x_won'].values.reshape(-1,1).astype(np.float))\n",
    "Y.append(adult_data['class'].values.reshape(-1,1).astype(np.float))\n",
    "Y.append(cloud_data['binary_class'].values.reshape(-1,1).astype(np.float))\n",
    "Y.append(my_dota['team_won'].values.reshape(-1,1).astype(np.float))\n",
    "Y.append(uci_dota['team_won'].values.reshape(-1,1).astype(np.float))"
   ]
  },
  {
   "cell_type": "code",
   "execution_count": null,
   "metadata": {},
   "outputs": [],
   "source": []
  },
  {
   "cell_type": "code",
   "execution_count": null,
   "metadata": {},
   "outputs": [],
   "source": []
  },
  {
   "cell_type": "code",
   "execution_count": 12,
   "metadata": {},
   "outputs": [],
   "source": [
    "def get_random_train_test(prop_test):\n",
    "    X_train = []\n",
    "    X_test = []\n",
    "    Y_train = []\n",
    "    Y_test = []\n",
    "    \n",
    "    for i in datasets.keys():\n",
    "       # print()\n",
    "        X_and_Y = np.hstack((X[i], Y[i]))     # Stack them together for shuffling.\n",
    "        np.random.shuffle(X_and_Y)      # Shuffle the data points in X_and_Y array\n",
    "\n",
    "        #print(datasets[i])\n",
    "       # print('X', X[i].shape)\n",
    "       # print('Y', Y[i].shape)\n",
    "        \n",
    "        X_shuffled = X_and_Y[:,:-1]\n",
    "        Y_shuffled = X_and_Y[:,-1]\n",
    "        \n",
    "        pivot = int(X[i].shape[0]*(1-prop_test))\n",
    "        X_train.append(X_shuffled[:pivot]) \n",
    "        Y_train.append(Y_shuffled[:pivot])             \n",
    "        X_test.append(X_shuffled[pivot:]) \n",
    "        Y_test.append(Y_shuffled[pivot:])\n",
    "        \n",
    "       # print('X_train', X_train[i].shape)\n",
    "       # print('Y_train', Y_train[i].shape)\n",
    "        \n",
    "       # print('X_test', X_test[i].shape)\n",
    "       # print('Y_test', Y_test[i].shape)\n",
    "        \n",
    "    return X_train, Y_train, X_test, Y_test\n",
    "\n",
    "    "
   ]
  },
  {
   "cell_type": "code",
   "execution_count": null,
   "metadata": {},
   "outputs": [],
   "source": []
  },
  {
   "cell_type": "code",
   "execution_count": 13,
   "metadata": {},
   "outputs": [],
   "source": [
    "import math\n",
    "import seaborn as sns       \n",
    "import numbers\n",
    "import copy\n",
    "\n",
    "from sklearn.pipeline import Pipeline\n",
    "from sklearn.model_selection import GridSearchCV\n",
    "from sklearn.model_selection import RandomizedSearchCV\n",
    "\n",
    "from sklearn.preprocessing import StandardScaler\n",
    "from sklearn.metrics import accuracy_score\n",
    "\n",
    "from sklearn.neighbors import KNeighborsClassifier\n",
    "from sklearn.svm import SVC\n",
    "from sklearn.ensemble import RandomForestClassifier\n",
    "\n",
    "\n",
    "cv_num = 3"
   ]
  },
  {
   "cell_type": "code",
   "execution_count": null,
   "metadata": {},
   "outputs": [],
   "source": []
  },
  {
   "cell_type": "code",
   "execution_count": 14,
   "metadata": {},
   "outputs": [],
   "source": [
    "def plot_grid_search_validation_curve(grid, param_to_vary,\n",
    "                                      title='Validation Curve', ylim=None,\n",
    "                                      xlim=None, log=None):\n",
    "    \"\"\"Plots train and cross-validation scores from a GridSearchCV instance's\n",
    "    best params while varying one of those params.\"\"\"\n",
    "\n",
    "    df_cv_results = pd.DataFrame(grid.cv_results_)\n",
    "    train_scores_mean = df_cv_results['mean_train_score']\n",
    "    valid_scores_mean = df_cv_results['mean_test_score']\n",
    "    train_scores_std = df_cv_results['std_train_score']\n",
    "    valid_scores_std = df_cv_results['std_test_score']\n",
    "\n",
    "    param_cols = [c for c in df_cv_results.columns if c[:6] == 'param_']\n",
    "    param_ranges = [grid.param_grid[p[6:]] for p in param_cols]\n",
    "    param_ranges_lengths = [len(pr) for pr in param_ranges]\n",
    "\n",
    "    train_scores_mean = np.array(train_scores_mean).reshape(*param_ranges_lengths)\n",
    "    valid_scores_mean = np.array(valid_scores_mean).reshape(*param_ranges_lengths)\n",
    "    train_scores_std = np.array(train_scores_std).reshape(*param_ranges_lengths)\n",
    "    valid_scores_std = np.array(valid_scores_std).reshape(*param_ranges_lengths)\n",
    "\n",
    "    param_to_vary_idx = param_cols.index('param_{}'.format(param_to_vary))\n",
    "\n",
    "    slices = []\n",
    "    for idx, param in enumerate(grid.best_params_):\n",
    "        if (idx == param_to_vary_idx):\n",
    "            slices.append(slice(None))\n",
    "            continue\n",
    "        best_param_val = grid.best_params_[param]\n",
    "        idx_of_best_param = 0\n",
    "        if isinstance(param_ranges[idx], np.ndarray):\n",
    "            idx_of_best_param = param_ranges[idx].tolist().index(best_param_val)\n",
    "        else:\n",
    "            idx_of_best_param = param_ranges[idx].index(best_param_val)\n",
    "        slices.append(idx_of_best_param)\n",
    "\n",
    "    train_scores_mean = train_scores_mean[tuple(slices)]\n",
    "    valid_scores_mean = valid_scores_mean[tuple(slices)]\n",
    "    train_scores_std = train_scores_std[tuple(slices)]\n",
    "    valid_scores_std = valid_scores_std[tuple(slices)]\n",
    "\n",
    "    plt.clf()\n",
    "\n",
    "    plt.title(title)\n",
    "    plt.xlabel(param_to_vary)\n",
    "    plt.ylabel('Score')\n",
    "\n",
    "    if (ylim is None):\n",
    "        plt.ylim(0.0, 1.1)\n",
    "    else:\n",
    "        plt.ylim(*ylim)\n",
    "\n",
    "    if (not (xlim is None)):\n",
    "        plt.xlim(*xlim)\n",
    "\n",
    "    lw = 2\n",
    "\n",
    "    plot_fn = plt.plot\n",
    "    if log:\n",
    "        plot_fn = plt.semilogx\n",
    "\n",
    "    param_range = param_ranges[param_to_vary_idx]\n",
    "    if (not isinstance(param_range[0], numbers.Number)):\n",
    "        param_range = [str(x) for x in param_range]\n",
    "    plot_fn(param_range, train_scores_mean, label='Training score', color='r',\n",
    "            lw=lw)\n",
    "    plt.fill_between(param_range, train_scores_mean - train_scores_std,\n",
    "                     train_scores_mean + train_scores_std, alpha=0.1,\n",
    "                     color='r', lw=lw)\n",
    "    plot_fn(param_range, valid_scores_mean, label='Cross-validation score',\n",
    "            color='b', lw=lw)\n",
    "    plt.fill_between(param_range, valid_scores_mean - valid_scores_std,\n",
    "                     valid_scores_mean + valid_scores_std, alpha=0.1,\n",
    "                     color='b', lw=lw)\n",
    "\n",
    "    plt.legend(loc='lower right')\n",
    "\n",
    "    plt.show()"
   ]
  },
  {
   "cell_type": "code",
   "execution_count": 15,
   "metadata": {},
   "outputs": [],
   "source": [
    "\n",
    "\n",
    "# Calculate error given feature vectors X and labels Y.\n",
    "def calc_error(Y_pred, Y):\n",
    "    return np.array(y_predicted !=  Y_test[0]).astype(np.float32).mean()"
   ]
  },
  {
   "cell_type": "code",
   "execution_count": null,
   "metadata": {},
   "outputs": [],
   "source": []
  },
  {
   "cell_type": "code",
   "execution_count": null,
   "metadata": {},
   "outputs": [],
   "source": []
  },
  {
   "cell_type": "code",
   "execution_count": null,
   "metadata": {},
   "outputs": [],
   "source": []
  },
  {
   "cell_type": "code",
   "execution_count": null,
   "metadata": {},
   "outputs": [],
   "source": []
  },
  {
   "cell_type": "code",
   "execution_count": 16,
   "metadata": {},
   "outputs": [],
   "source": [
    "#KNN model\n",
    "pipe_knn = Pipeline([\n",
    "    ('sc', StandardScaler()),     \n",
    "    ('knn', KNeighborsClassifier()) \n",
    "])\n",
    "k_max = 10\n",
    "\n",
    "def get_knn_parm(n):\n",
    "    step = math.log((n / cv_num) * (cv_num-1) ,k_max)\n",
    "    return {'knn__n_neighbors': np.power(np.arange(1,k_max), step).astype(int), 'knn__p' : [1, 2,3]}\n"
   ]
  },
  {
   "cell_type": "code",
   "execution_count": 17,
   "metadata": {},
   "outputs": [],
   "source": [
    "# SVM model\n",
    "pipe_svm = Pipeline([\n",
    "    ('sc', StandardScaler()),     \n",
    "    ('svm', SVC()) \n",
    "])\n",
    "\n",
    "def get_svm_parm(n):\n",
    "    return {'svm__C': [10**c for c in np.arange(-7,3, dtype=float)], 'svm__kernel' : ['linear','rbf']}"
   ]
  },
  {
   "cell_type": "code",
   "execution_count": 45,
   "metadata": {},
   "outputs": [
    {
     "name": "stdout",
     "output_type": "stream",
     "text": [
      "{'n_estimators': [200, 400, 600, 800, 1000, 1200, 1400, 1600, 1800, 2000], 'max_features': ['auto', 'sqrt'], 'max_depth': [10, 20, 30, 40, 50, 60, 70, 80, 90, 100, 110, None], 'min_samples_split': [2, 5, 10], 'min_samples_leaf': [1, 2, 4], 'bootstrap': [True, False]}\n"
     ]
    }
   ],
   "source": [
    "\n",
    "print(random_grid)"
   ]
  },
  {
   "cell_type": "code",
   "execution_count": 59,
   "metadata": {},
   "outputs": [
    {
     "data": {
      "text/plain": [
       "[2.5, 5.0, 10.0, 20.0, 40.0]"
      ]
     },
     "execution_count": 59,
     "metadata": {},
     "output_type": "execute_result"
    }
   ],
   "source": [
    "[2**c *  for c in np.arange(-1,4, dtype=float)]"
   ]
  },
  {
   "cell_type": "code",
   "execution_count": 106,
   "metadata": {},
   "outputs": [],
   "source": [
    "# Random forest model\n",
    "pipe_rf = Pipeline([\n",
    "    ('rf', RandomForestClassifier()) \n",
    "])\n",
    "\n",
    "# used https://towardsdatascience.com/hyperparameter-tuning-the-random-forest-in-python-using-scikit-learn-28d2aa77dd74 \n",
    "# to get reasonble RF hyperparmeters then changed it to match http://lowrank.net/nikos/pubs/empirical.pdf\n",
    "def get_rv_parm(n):\n",
    "    s = int(n**0.5)\n",
    "    n_estimators = [2**c for c in np.arange(7,13, dtype=int)]\n",
    "    max_features = ['auto', 'sqrt']\n",
    "    min_samples_split = [2**c * s for c in np.arange(-1,4, dtype=float)]\n",
    "    bootstrap = [True, False]\n",
    "    # Create the random grid\n",
    "    random_grid = {'rf__n_estimators': n_estimators,\n",
    "                   'rf__max_features': max_features,\n",
    "                   'rf__min_samples_split': min_samples_split,\n",
    "                   'rf__bootstrap': bootstrap}\n",
    "    return random_grid"
   ]
  },
  {
   "cell_type": "code",
   "execution_count": null,
   "metadata": {},
   "outputs": [],
   "source": []
  },
  {
   "cell_type": "code",
   "execution_count": 107,
   "metadata": {},
   "outputs": [],
   "source": [
    "classifiers = {'KNN' : \n",
    "                    {'pipe' : pipe_knn, 'params' : get_knn_parm, 'grid_list':[],'test_auc':[],'train_auc':[],'val_auc':[]},\n",
    "                'SVM' : \n",
    "                   {'pipe' : pipe_svm, 'params' : get_svm_parm, 'grid_list':[],'test_auc':[],'train_auc':[],'val_auc':[]},\n",
    "               'RF' :\n",
    "                    {'pipe' : pipe_rf, 'params' : get_rv_parm, 'grid_list':[],'test_auc':[],'train_auc':[],'val_auc':[]}\n",
    "              }\n",
    "            \n"
   ]
  },
  {
   "cell_type": "code",
   "execution_count": null,
   "metadata": {},
   "outputs": [],
   "source": [
    "\n"
   ]
  },
  {
   "cell_type": "code",
   "execution_count": null,
   "metadata": {},
   "outputs": [],
   "source": []
  },
  {
   "cell_type": "code",
   "execution_count": 108,
   "metadata": {},
   "outputs": [],
   "source": [
    "def train(x,y, model):\n",
    "    clf = RandomizedSearchCV(estimator=model['pipe'],n_iter = 15,           \n",
    "                  param_distributions=model['params'](x.shape[0]), \n",
    "                  cv=cv_num,\n",
    "                  return_train_score=True,n_jobs=5, pre_dispatch = '2*n_jobs',  refit=True,scoring = 'accuracy')\n",
    "\n",
    "    return clf.fit(x, y)"
   ]
  },
  {
   "cell_type": "code",
   "execution_count": 109,
   "metadata": {},
   "outputs": [],
   "source": [
    "def test(x_test,y_test, model):\n",
    "    y_pred  = model.predict(x_test)\n",
    "    return accuracy_score(y_pred,y_test)\n",
    "    "
   ]
  },
  {
   "cell_type": "code",
   "execution_count": 110,
   "metadata": {},
   "outputs": [],
   "source": [
    "dict = copy.deepcopy(dict)"
   ]
  },
  {
   "cell_type": "code",
   "execution_count": 111,
   "metadata": {},
   "outputs": [],
   "source": [
    "partions = [0.2,0.5,0.8]"
   ]
  },
  {
   "cell_type": "code",
   "execution_count": null,
   "metadata": {},
   "outputs": [],
   "source": []
  },
  {
   "cell_type": "code",
   "execution_count": 112,
   "metadata": {},
   "outputs": [],
   "source": [
    "def new_results_dic(partions, datasets, classifiers):\n",
    "    results_dic = {}\n",
    "    for i, part in enumerate(partions, start=0):\n",
    "        results_dic[i] = {'partion' : part, 'datasets':{}}\n",
    "        for dataset in datasets.items():\n",
    "            results_dic[i]['datasets'][dataset[1]] = {'index' : dataset[0], 'classifiers':copy.deepcopy(classifiers)}\n",
    "    return results_dic\n",
    "        \n",
    "    "
   ]
  },
  {
   "cell_type": "code",
   "execution_count": null,
   "metadata": {},
   "outputs": [],
   "source": []
  },
  {
   "cell_type": "code",
   "execution_count": null,
   "metadata": {},
   "outputs": [],
   "source": []
  },
  {
   "cell_type": "code",
   "execution_count": null,
   "metadata": {},
   "outputs": [],
   "source": []
  },
  {
   "cell_type": "code",
   "execution_count": 103,
   "metadata": {},
   "outputs": [],
   "source": [
    "def update_avrg_auc_over_n_trials(n, results_dic):\n",
    "    \n",
    "    for i in range(0,n):\n",
    "        print('\\ttrial', i)\n",
    "        X_train, Y_train, X_test, Y_test = get_random_train_test(results_dic['partion'])\n",
    "        for dataset in results_dic['datasets']:\n",
    "            print('\\t\\tdataset', dataset)\n",
    "            dataset = results_dic['datasets'][dataset]\n",
    "            for classifier in dataset['classifiers']:\n",
    "                print('\\t\\t\\ttunning ', classifier)\n",
    "                classifier = dataset['classifiers'][classifier]\n",
    "                grid = train(X_train[dataset['index']],Y_train[dataset['index']], classifier)\n",
    "                classifier['test_auc'].append(test(X_test[dataset['index']], Y_test[dataset['index']],grid))\n",
    "                classifier['train_auc'].append(grid.cv_results_['mean_train_score'][grid.best_index_])\n",
    "                classifier['val_auc'].append(grid.cv_results_['mean_test_score'][grid.best_index_])\n",
    "\n",
    "                classifier['grid_list'].append(grid)\n",
    "    \n",
    "        "
   ]
  },
  {
   "cell_type": "code",
   "execution_count": 104,
   "metadata": {},
   "outputs": [],
   "source": [
    "def run_core_loop():\n",
    "    results_dic = new_results_dic(partions, datasets, classifiers)\n",
    "    for part in results_dic.values():\n",
    "        print('partion', part['partion'])\n",
    "        update_avrg_auc_over_n_trials(3, part)\n",
    "    return results_dic\n",
    "        "
   ]
  },
  {
   "cell_type": "code",
   "execution_count": 105,
   "metadata": {},
   "outputs": [
    {
     "name": "stdout",
     "output_type": "stream",
     "text": [
      "partion 0.2\n",
      "\ttrial 0\n",
      "\t\tdataset tic_tac\n",
      "\t\t\ttunning  KNN\n",
      "\t\t\ttunning  SVM\n",
      "\t\t\ttunning  RF\n"
     ]
    },
    {
     "ename": "ValueError",
     "evalue": "min_samples_split must be an integer greater than 1 or a float in (0.0, 1.0]; got the float 13.838352503098047",
     "output_type": "error",
     "traceback": [
      "\u001b[1;31m---------------------------------------------------------------------------\u001b[0m",
      "\u001b[1;31mValueError\u001b[0m                                Traceback (most recent call last)",
      "\u001b[1;32m<ipython-input-105-79ec65ea2e80>\u001b[0m in \u001b[0;36m<module>\u001b[1;34m\u001b[0m\n\u001b[1;32m----> 1\u001b[1;33m \u001b[0mresults_dic\u001b[0m \u001b[1;33m=\u001b[0m \u001b[0mrun_core_loop\u001b[0m\u001b[1;33m(\u001b[0m\u001b[1;33m)\u001b[0m\u001b[1;33m\u001b[0m\u001b[1;33m\u001b[0m\u001b[0m\n\u001b[0m",
      "\u001b[1;32m<ipython-input-104-b6e00067b00c>\u001b[0m in \u001b[0;36mrun_core_loop\u001b[1;34m()\u001b[0m\n\u001b[0;32m      3\u001b[0m     \u001b[1;32mfor\u001b[0m \u001b[0mpart\u001b[0m \u001b[1;32min\u001b[0m \u001b[0mresults_dic\u001b[0m\u001b[1;33m.\u001b[0m\u001b[0mvalues\u001b[0m\u001b[1;33m(\u001b[0m\u001b[1;33m)\u001b[0m\u001b[1;33m:\u001b[0m\u001b[1;33m\u001b[0m\u001b[1;33m\u001b[0m\u001b[0m\n\u001b[0;32m      4\u001b[0m         \u001b[0mprint\u001b[0m\u001b[1;33m(\u001b[0m\u001b[1;34m'partion'\u001b[0m\u001b[1;33m,\u001b[0m \u001b[0mpart\u001b[0m\u001b[1;33m[\u001b[0m\u001b[1;34m'partion'\u001b[0m\u001b[1;33m]\u001b[0m\u001b[1;33m)\u001b[0m\u001b[1;33m\u001b[0m\u001b[1;33m\u001b[0m\u001b[0m\n\u001b[1;32m----> 5\u001b[1;33m         \u001b[0mupdate_avrg_auc_over_n_trials\u001b[0m\u001b[1;33m(\u001b[0m\u001b[1;36m3\u001b[0m\u001b[1;33m,\u001b[0m \u001b[0mpart\u001b[0m\u001b[1;33m)\u001b[0m\u001b[1;33m\u001b[0m\u001b[1;33m\u001b[0m\u001b[0m\n\u001b[0m\u001b[0;32m      6\u001b[0m     \u001b[1;32mreturn\u001b[0m \u001b[0mresults_dic\u001b[0m\u001b[1;33m\u001b[0m\u001b[1;33m\u001b[0m\u001b[0m\n\u001b[0;32m      7\u001b[0m \u001b[1;33m\u001b[0m\u001b[0m\n",
      "\u001b[1;32m<ipython-input-103-64177c0f55ce>\u001b[0m in \u001b[0;36mupdate_avrg_auc_over_n_trials\u001b[1;34m(n, results_dic)\u001b[0m\n\u001b[0;32m     10\u001b[0m                 \u001b[0mprint\u001b[0m\u001b[1;33m(\u001b[0m\u001b[1;34m'\\t\\t\\ttunning '\u001b[0m\u001b[1;33m,\u001b[0m \u001b[0mclassifier\u001b[0m\u001b[1;33m)\u001b[0m\u001b[1;33m\u001b[0m\u001b[1;33m\u001b[0m\u001b[0m\n\u001b[0;32m     11\u001b[0m                 \u001b[0mclassifier\u001b[0m \u001b[1;33m=\u001b[0m \u001b[0mdataset\u001b[0m\u001b[1;33m[\u001b[0m\u001b[1;34m'classifiers'\u001b[0m\u001b[1;33m]\u001b[0m\u001b[1;33m[\u001b[0m\u001b[0mclassifier\u001b[0m\u001b[1;33m]\u001b[0m\u001b[1;33m\u001b[0m\u001b[1;33m\u001b[0m\u001b[0m\n\u001b[1;32m---> 12\u001b[1;33m                 \u001b[0mgrid\u001b[0m \u001b[1;33m=\u001b[0m \u001b[0mtrain\u001b[0m\u001b[1;33m(\u001b[0m\u001b[0mX_train\u001b[0m\u001b[1;33m[\u001b[0m\u001b[0mdataset\u001b[0m\u001b[1;33m[\u001b[0m\u001b[1;34m'index'\u001b[0m\u001b[1;33m]\u001b[0m\u001b[1;33m]\u001b[0m\u001b[1;33m,\u001b[0m\u001b[0mY_train\u001b[0m\u001b[1;33m[\u001b[0m\u001b[0mdataset\u001b[0m\u001b[1;33m[\u001b[0m\u001b[1;34m'index'\u001b[0m\u001b[1;33m]\u001b[0m\u001b[1;33m]\u001b[0m\u001b[1;33m,\u001b[0m \u001b[0mclassifier\u001b[0m\u001b[1;33m)\u001b[0m\u001b[1;33m\u001b[0m\u001b[1;33m\u001b[0m\u001b[0m\n\u001b[0m\u001b[0;32m     13\u001b[0m                 \u001b[0mclassifier\u001b[0m\u001b[1;33m[\u001b[0m\u001b[1;34m'test_auc'\u001b[0m\u001b[1;33m]\u001b[0m\u001b[1;33m.\u001b[0m\u001b[0mappend\u001b[0m\u001b[1;33m(\u001b[0m\u001b[0mtest\u001b[0m\u001b[1;33m(\u001b[0m\u001b[0mX_test\u001b[0m\u001b[1;33m[\u001b[0m\u001b[0mdataset\u001b[0m\u001b[1;33m[\u001b[0m\u001b[1;34m'index'\u001b[0m\u001b[1;33m]\u001b[0m\u001b[1;33m]\u001b[0m\u001b[1;33m,\u001b[0m \u001b[0mY_test\u001b[0m\u001b[1;33m[\u001b[0m\u001b[0mdataset\u001b[0m\u001b[1;33m[\u001b[0m\u001b[1;34m'index'\u001b[0m\u001b[1;33m]\u001b[0m\u001b[1;33m]\u001b[0m\u001b[1;33m,\u001b[0m\u001b[0mgrid\u001b[0m\u001b[1;33m)\u001b[0m\u001b[1;33m)\u001b[0m\u001b[1;33m\u001b[0m\u001b[1;33m\u001b[0m\u001b[0m\n\u001b[0;32m     14\u001b[0m                 \u001b[0mclassifier\u001b[0m\u001b[1;33m[\u001b[0m\u001b[1;34m'train_auc'\u001b[0m\u001b[1;33m]\u001b[0m\u001b[1;33m.\u001b[0m\u001b[0mappend\u001b[0m\u001b[1;33m(\u001b[0m\u001b[0mgrid\u001b[0m\u001b[1;33m.\u001b[0m\u001b[0mcv_results_\u001b[0m\u001b[1;33m[\u001b[0m\u001b[1;34m'mean_train_score'\u001b[0m\u001b[1;33m]\u001b[0m\u001b[1;33m[\u001b[0m\u001b[0mgrid\u001b[0m\u001b[1;33m.\u001b[0m\u001b[0mbest_index_\u001b[0m\u001b[1;33m]\u001b[0m\u001b[1;33m)\u001b[0m\u001b[1;33m\u001b[0m\u001b[1;33m\u001b[0m\u001b[0m\n",
      "\u001b[1;32m<ipython-input-98-2e12480c82a3>\u001b[0m in \u001b[0;36mtrain\u001b[1;34m(x, y, model)\u001b[0m\n\u001b[0;32m      5\u001b[0m                   return_train_score=True,n_jobs=5, pre_dispatch = '2*n_jobs',  refit=True,scoring = 'accuracy')\n\u001b[0;32m      6\u001b[0m \u001b[1;33m\u001b[0m\u001b[0m\n\u001b[1;32m----> 7\u001b[1;33m     \u001b[1;32mreturn\u001b[0m \u001b[0mclf\u001b[0m\u001b[1;33m.\u001b[0m\u001b[0mfit\u001b[0m\u001b[1;33m(\u001b[0m\u001b[0mx\u001b[0m\u001b[1;33m,\u001b[0m \u001b[0my\u001b[0m\u001b[1;33m)\u001b[0m\u001b[1;33m\u001b[0m\u001b[1;33m\u001b[0m\u001b[0m\n\u001b[0m",
      "\u001b[1;32m~\\Anaconda3\\envs\\cogs_118a\\lib\\site-packages\\sklearn\\model_selection\\_search.py\u001b[0m in \u001b[0;36mfit\u001b[1;34m(self, X, y, groups, **fit_params)\u001b[0m\n\u001b[0;32m    737\u001b[0m             \u001b[0mrefit_start_time\u001b[0m \u001b[1;33m=\u001b[0m \u001b[0mtime\u001b[0m\u001b[1;33m.\u001b[0m\u001b[0mtime\u001b[0m\u001b[1;33m(\u001b[0m\u001b[1;33m)\u001b[0m\u001b[1;33m\u001b[0m\u001b[1;33m\u001b[0m\u001b[0m\n\u001b[0;32m    738\u001b[0m             \u001b[1;32mif\u001b[0m \u001b[0my\u001b[0m \u001b[1;32mis\u001b[0m \u001b[1;32mnot\u001b[0m \u001b[1;32mNone\u001b[0m\u001b[1;33m:\u001b[0m\u001b[1;33m\u001b[0m\u001b[1;33m\u001b[0m\u001b[0m\n\u001b[1;32m--> 739\u001b[1;33m                 \u001b[0mself\u001b[0m\u001b[1;33m.\u001b[0m\u001b[0mbest_estimator_\u001b[0m\u001b[1;33m.\u001b[0m\u001b[0mfit\u001b[0m\u001b[1;33m(\u001b[0m\u001b[0mX\u001b[0m\u001b[1;33m,\u001b[0m \u001b[0my\u001b[0m\u001b[1;33m,\u001b[0m \u001b[1;33m**\u001b[0m\u001b[0mfit_params\u001b[0m\u001b[1;33m)\u001b[0m\u001b[1;33m\u001b[0m\u001b[1;33m\u001b[0m\u001b[0m\n\u001b[0m\u001b[0;32m    740\u001b[0m             \u001b[1;32melse\u001b[0m\u001b[1;33m:\u001b[0m\u001b[1;33m\u001b[0m\u001b[1;33m\u001b[0m\u001b[0m\n\u001b[0;32m    741\u001b[0m                 \u001b[0mself\u001b[0m\u001b[1;33m.\u001b[0m\u001b[0mbest_estimator_\u001b[0m\u001b[1;33m.\u001b[0m\u001b[0mfit\u001b[0m\u001b[1;33m(\u001b[0m\u001b[0mX\u001b[0m\u001b[1;33m,\u001b[0m \u001b[1;33m**\u001b[0m\u001b[0mfit_params\u001b[0m\u001b[1;33m)\u001b[0m\u001b[1;33m\u001b[0m\u001b[1;33m\u001b[0m\u001b[0m\n",
      "\u001b[1;32m~\\Anaconda3\\envs\\cogs_118a\\lib\\site-packages\\sklearn\\pipeline.py\u001b[0m in \u001b[0;36mfit\u001b[1;34m(self, X, y, **fit_params)\u001b[0m\n\u001b[0;32m    352\u001b[0m                                  self._log_message(len(self.steps) - 1)):\n\u001b[0;32m    353\u001b[0m             \u001b[1;32mif\u001b[0m \u001b[0mself\u001b[0m\u001b[1;33m.\u001b[0m\u001b[0m_final_estimator\u001b[0m \u001b[1;33m!=\u001b[0m \u001b[1;34m'passthrough'\u001b[0m\u001b[1;33m:\u001b[0m\u001b[1;33m\u001b[0m\u001b[1;33m\u001b[0m\u001b[0m\n\u001b[1;32m--> 354\u001b[1;33m                 \u001b[0mself\u001b[0m\u001b[1;33m.\u001b[0m\u001b[0m_final_estimator\u001b[0m\u001b[1;33m.\u001b[0m\u001b[0mfit\u001b[0m\u001b[1;33m(\u001b[0m\u001b[0mXt\u001b[0m\u001b[1;33m,\u001b[0m \u001b[0my\u001b[0m\u001b[1;33m,\u001b[0m \u001b[1;33m**\u001b[0m\u001b[0mfit_params\u001b[0m\u001b[1;33m)\u001b[0m\u001b[1;33m\u001b[0m\u001b[1;33m\u001b[0m\u001b[0m\n\u001b[0m\u001b[0;32m    355\u001b[0m         \u001b[1;32mreturn\u001b[0m \u001b[0mself\u001b[0m\u001b[1;33m\u001b[0m\u001b[1;33m\u001b[0m\u001b[0m\n\u001b[0;32m    356\u001b[0m \u001b[1;33m\u001b[0m\u001b[0m\n",
      "\u001b[1;32m~\\Anaconda3\\envs\\cogs_118a\\lib\\site-packages\\sklearn\\ensemble\\_forest.py\u001b[0m in \u001b[0;36mfit\u001b[1;34m(self, X, y, sample_weight)\u001b[0m\n\u001b[0;32m    381\u001b[0m                     \u001b[0mverbose\u001b[0m\u001b[1;33m=\u001b[0m\u001b[0mself\u001b[0m\u001b[1;33m.\u001b[0m\u001b[0mverbose\u001b[0m\u001b[1;33m,\u001b[0m \u001b[0mclass_weight\u001b[0m\u001b[1;33m=\u001b[0m\u001b[0mself\u001b[0m\u001b[1;33m.\u001b[0m\u001b[0mclass_weight\u001b[0m\u001b[1;33m,\u001b[0m\u001b[1;33m\u001b[0m\u001b[1;33m\u001b[0m\u001b[0m\n\u001b[0;32m    382\u001b[0m                     n_samples_bootstrap=n_samples_bootstrap)\n\u001b[1;32m--> 383\u001b[1;33m                 for i, t in enumerate(trees))\n\u001b[0m\u001b[0;32m    384\u001b[0m \u001b[1;33m\u001b[0m\u001b[0m\n\u001b[0;32m    385\u001b[0m             \u001b[1;31m# Collect newly grown trees\u001b[0m\u001b[1;33m\u001b[0m\u001b[1;33m\u001b[0m\u001b[1;33m\u001b[0m\u001b[0m\n",
      "\u001b[1;32m~\\Anaconda3\\envs\\cogs_118a\\lib\\site-packages\\joblib\\parallel.py\u001b[0m in \u001b[0;36m__call__\u001b[1;34m(self, iterable)\u001b[0m\n\u001b[0;32m   1002\u001b[0m             \u001b[1;31m# remaining jobs.\u001b[0m\u001b[1;33m\u001b[0m\u001b[1;33m\u001b[0m\u001b[1;33m\u001b[0m\u001b[0m\n\u001b[0;32m   1003\u001b[0m             \u001b[0mself\u001b[0m\u001b[1;33m.\u001b[0m\u001b[0m_iterating\u001b[0m \u001b[1;33m=\u001b[0m \u001b[1;32mFalse\u001b[0m\u001b[1;33m\u001b[0m\u001b[1;33m\u001b[0m\u001b[0m\n\u001b[1;32m-> 1004\u001b[1;33m             \u001b[1;32mif\u001b[0m \u001b[0mself\u001b[0m\u001b[1;33m.\u001b[0m\u001b[0mdispatch_one_batch\u001b[0m\u001b[1;33m(\u001b[0m\u001b[0miterator\u001b[0m\u001b[1;33m)\u001b[0m\u001b[1;33m:\u001b[0m\u001b[1;33m\u001b[0m\u001b[1;33m\u001b[0m\u001b[0m\n\u001b[0m\u001b[0;32m   1005\u001b[0m                 \u001b[0mself\u001b[0m\u001b[1;33m.\u001b[0m\u001b[0m_iterating\u001b[0m \u001b[1;33m=\u001b[0m \u001b[0mself\u001b[0m\u001b[1;33m.\u001b[0m\u001b[0m_original_iterator\u001b[0m \u001b[1;32mis\u001b[0m \u001b[1;32mnot\u001b[0m \u001b[1;32mNone\u001b[0m\u001b[1;33m\u001b[0m\u001b[1;33m\u001b[0m\u001b[0m\n\u001b[0;32m   1006\u001b[0m \u001b[1;33m\u001b[0m\u001b[0m\n",
      "\u001b[1;32m~\\Anaconda3\\envs\\cogs_118a\\lib\\site-packages\\joblib\\parallel.py\u001b[0m in \u001b[0;36mdispatch_one_batch\u001b[1;34m(self, iterator)\u001b[0m\n\u001b[0;32m    833\u001b[0m                 \u001b[1;32mreturn\u001b[0m \u001b[1;32mFalse\u001b[0m\u001b[1;33m\u001b[0m\u001b[1;33m\u001b[0m\u001b[0m\n\u001b[0;32m    834\u001b[0m             \u001b[1;32melse\u001b[0m\u001b[1;33m:\u001b[0m\u001b[1;33m\u001b[0m\u001b[1;33m\u001b[0m\u001b[0m\n\u001b[1;32m--> 835\u001b[1;33m                 \u001b[0mself\u001b[0m\u001b[1;33m.\u001b[0m\u001b[0m_dispatch\u001b[0m\u001b[1;33m(\u001b[0m\u001b[0mtasks\u001b[0m\u001b[1;33m)\u001b[0m\u001b[1;33m\u001b[0m\u001b[1;33m\u001b[0m\u001b[0m\n\u001b[0m\u001b[0;32m    836\u001b[0m                 \u001b[1;32mreturn\u001b[0m \u001b[1;32mTrue\u001b[0m\u001b[1;33m\u001b[0m\u001b[1;33m\u001b[0m\u001b[0m\n\u001b[0;32m    837\u001b[0m \u001b[1;33m\u001b[0m\u001b[0m\n",
      "\u001b[1;32m~\\Anaconda3\\envs\\cogs_118a\\lib\\site-packages\\joblib\\parallel.py\u001b[0m in \u001b[0;36m_dispatch\u001b[1;34m(self, batch)\u001b[0m\n\u001b[0;32m    752\u001b[0m         \u001b[1;32mwith\u001b[0m \u001b[0mself\u001b[0m\u001b[1;33m.\u001b[0m\u001b[0m_lock\u001b[0m\u001b[1;33m:\u001b[0m\u001b[1;33m\u001b[0m\u001b[1;33m\u001b[0m\u001b[0m\n\u001b[0;32m    753\u001b[0m             \u001b[0mjob_idx\u001b[0m \u001b[1;33m=\u001b[0m \u001b[0mlen\u001b[0m\u001b[1;33m(\u001b[0m\u001b[0mself\u001b[0m\u001b[1;33m.\u001b[0m\u001b[0m_jobs\u001b[0m\u001b[1;33m)\u001b[0m\u001b[1;33m\u001b[0m\u001b[1;33m\u001b[0m\u001b[0m\n\u001b[1;32m--> 754\u001b[1;33m             \u001b[0mjob\u001b[0m \u001b[1;33m=\u001b[0m \u001b[0mself\u001b[0m\u001b[1;33m.\u001b[0m\u001b[0m_backend\u001b[0m\u001b[1;33m.\u001b[0m\u001b[0mapply_async\u001b[0m\u001b[1;33m(\u001b[0m\u001b[0mbatch\u001b[0m\u001b[1;33m,\u001b[0m \u001b[0mcallback\u001b[0m\u001b[1;33m=\u001b[0m\u001b[0mcb\u001b[0m\u001b[1;33m)\u001b[0m\u001b[1;33m\u001b[0m\u001b[1;33m\u001b[0m\u001b[0m\n\u001b[0m\u001b[0;32m    755\u001b[0m             \u001b[1;31m# A job can complete so quickly than its callback is\u001b[0m\u001b[1;33m\u001b[0m\u001b[1;33m\u001b[0m\u001b[1;33m\u001b[0m\u001b[0m\n\u001b[0;32m    756\u001b[0m             \u001b[1;31m# called before we get here, causing self._jobs to\u001b[0m\u001b[1;33m\u001b[0m\u001b[1;33m\u001b[0m\u001b[1;33m\u001b[0m\u001b[0m\n",
      "\u001b[1;32m~\\Anaconda3\\envs\\cogs_118a\\lib\\site-packages\\joblib\\_parallel_backends.py\u001b[0m in \u001b[0;36mapply_async\u001b[1;34m(self, func, callback)\u001b[0m\n\u001b[0;32m    207\u001b[0m     \u001b[1;32mdef\u001b[0m \u001b[0mapply_async\u001b[0m\u001b[1;33m(\u001b[0m\u001b[0mself\u001b[0m\u001b[1;33m,\u001b[0m \u001b[0mfunc\u001b[0m\u001b[1;33m,\u001b[0m \u001b[0mcallback\u001b[0m\u001b[1;33m=\u001b[0m\u001b[1;32mNone\u001b[0m\u001b[1;33m)\u001b[0m\u001b[1;33m:\u001b[0m\u001b[1;33m\u001b[0m\u001b[1;33m\u001b[0m\u001b[0m\n\u001b[0;32m    208\u001b[0m         \u001b[1;34m\"\"\"Schedule a func to be run\"\"\"\u001b[0m\u001b[1;33m\u001b[0m\u001b[1;33m\u001b[0m\u001b[0m\n\u001b[1;32m--> 209\u001b[1;33m         \u001b[0mresult\u001b[0m \u001b[1;33m=\u001b[0m \u001b[0mImmediateResult\u001b[0m\u001b[1;33m(\u001b[0m\u001b[0mfunc\u001b[0m\u001b[1;33m)\u001b[0m\u001b[1;33m\u001b[0m\u001b[1;33m\u001b[0m\u001b[0m\n\u001b[0m\u001b[0;32m    210\u001b[0m         \u001b[1;32mif\u001b[0m \u001b[0mcallback\u001b[0m\u001b[1;33m:\u001b[0m\u001b[1;33m\u001b[0m\u001b[1;33m\u001b[0m\u001b[0m\n\u001b[0;32m    211\u001b[0m             \u001b[0mcallback\u001b[0m\u001b[1;33m(\u001b[0m\u001b[0mresult\u001b[0m\u001b[1;33m)\u001b[0m\u001b[1;33m\u001b[0m\u001b[1;33m\u001b[0m\u001b[0m\n",
      "\u001b[1;32m~\\Anaconda3\\envs\\cogs_118a\\lib\\site-packages\\joblib\\_parallel_backends.py\u001b[0m in \u001b[0;36m__init__\u001b[1;34m(self, batch)\u001b[0m\n\u001b[0;32m    588\u001b[0m         \u001b[1;31m# Don't delay the application, to avoid keeping the input\u001b[0m\u001b[1;33m\u001b[0m\u001b[1;33m\u001b[0m\u001b[1;33m\u001b[0m\u001b[0m\n\u001b[0;32m    589\u001b[0m         \u001b[1;31m# arguments in memory\u001b[0m\u001b[1;33m\u001b[0m\u001b[1;33m\u001b[0m\u001b[1;33m\u001b[0m\u001b[0m\n\u001b[1;32m--> 590\u001b[1;33m         \u001b[0mself\u001b[0m\u001b[1;33m.\u001b[0m\u001b[0mresults\u001b[0m \u001b[1;33m=\u001b[0m \u001b[0mbatch\u001b[0m\u001b[1;33m(\u001b[0m\u001b[1;33m)\u001b[0m\u001b[1;33m\u001b[0m\u001b[1;33m\u001b[0m\u001b[0m\n\u001b[0m\u001b[0;32m    591\u001b[0m \u001b[1;33m\u001b[0m\u001b[0m\n\u001b[0;32m    592\u001b[0m     \u001b[1;32mdef\u001b[0m \u001b[0mget\u001b[0m\u001b[1;33m(\u001b[0m\u001b[0mself\u001b[0m\u001b[1;33m)\u001b[0m\u001b[1;33m:\u001b[0m\u001b[1;33m\u001b[0m\u001b[1;33m\u001b[0m\u001b[0m\n",
      "\u001b[1;32m~\\Anaconda3\\envs\\cogs_118a\\lib\\site-packages\\joblib\\parallel.py\u001b[0m in \u001b[0;36m__call__\u001b[1;34m(self)\u001b[0m\n\u001b[0;32m    254\u001b[0m         \u001b[1;32mwith\u001b[0m \u001b[0mparallel_backend\u001b[0m\u001b[1;33m(\u001b[0m\u001b[0mself\u001b[0m\u001b[1;33m.\u001b[0m\u001b[0m_backend\u001b[0m\u001b[1;33m,\u001b[0m \u001b[0mn_jobs\u001b[0m\u001b[1;33m=\u001b[0m\u001b[0mself\u001b[0m\u001b[1;33m.\u001b[0m\u001b[0m_n_jobs\u001b[0m\u001b[1;33m)\u001b[0m\u001b[1;33m:\u001b[0m\u001b[1;33m\u001b[0m\u001b[1;33m\u001b[0m\u001b[0m\n\u001b[0;32m    255\u001b[0m             return [func(*args, **kwargs)\n\u001b[1;32m--> 256\u001b[1;33m                     for func, args, kwargs in self.items]\n\u001b[0m\u001b[0;32m    257\u001b[0m \u001b[1;33m\u001b[0m\u001b[0m\n\u001b[0;32m    258\u001b[0m     \u001b[1;32mdef\u001b[0m \u001b[0m__len__\u001b[0m\u001b[1;33m(\u001b[0m\u001b[0mself\u001b[0m\u001b[1;33m)\u001b[0m\u001b[1;33m:\u001b[0m\u001b[1;33m\u001b[0m\u001b[1;33m\u001b[0m\u001b[0m\n",
      "\u001b[1;32m~\\Anaconda3\\envs\\cogs_118a\\lib\\site-packages\\joblib\\parallel.py\u001b[0m in \u001b[0;36m<listcomp>\u001b[1;34m(.0)\u001b[0m\n\u001b[0;32m    254\u001b[0m         \u001b[1;32mwith\u001b[0m \u001b[0mparallel_backend\u001b[0m\u001b[1;33m(\u001b[0m\u001b[0mself\u001b[0m\u001b[1;33m.\u001b[0m\u001b[0m_backend\u001b[0m\u001b[1;33m,\u001b[0m \u001b[0mn_jobs\u001b[0m\u001b[1;33m=\u001b[0m\u001b[0mself\u001b[0m\u001b[1;33m.\u001b[0m\u001b[0m_n_jobs\u001b[0m\u001b[1;33m)\u001b[0m\u001b[1;33m:\u001b[0m\u001b[1;33m\u001b[0m\u001b[1;33m\u001b[0m\u001b[0m\n\u001b[0;32m    255\u001b[0m             return [func(*args, **kwargs)\n\u001b[1;32m--> 256\u001b[1;33m                     for func, args, kwargs in self.items]\n\u001b[0m\u001b[0;32m    257\u001b[0m \u001b[1;33m\u001b[0m\u001b[0m\n\u001b[0;32m    258\u001b[0m     \u001b[1;32mdef\u001b[0m \u001b[0m__len__\u001b[0m\u001b[1;33m(\u001b[0m\u001b[0mself\u001b[0m\u001b[1;33m)\u001b[0m\u001b[1;33m:\u001b[0m\u001b[1;33m\u001b[0m\u001b[1;33m\u001b[0m\u001b[0m\n",
      "\u001b[1;32m~\\Anaconda3\\envs\\cogs_118a\\lib\\site-packages\\sklearn\\ensemble\\_forest.py\u001b[0m in \u001b[0;36m_parallel_build_trees\u001b[1;34m(tree, forest, X, y, sample_weight, tree_idx, n_trees, verbose, class_weight, n_samples_bootstrap)\u001b[0m\n\u001b[0;32m    165\u001b[0m         \u001b[0mtree\u001b[0m\u001b[1;33m.\u001b[0m\u001b[0mfit\u001b[0m\u001b[1;33m(\u001b[0m\u001b[0mX\u001b[0m\u001b[1;33m,\u001b[0m \u001b[0my\u001b[0m\u001b[1;33m,\u001b[0m \u001b[0msample_weight\u001b[0m\u001b[1;33m=\u001b[0m\u001b[0mcurr_sample_weight\u001b[0m\u001b[1;33m,\u001b[0m \u001b[0mcheck_input\u001b[0m\u001b[1;33m=\u001b[0m\u001b[1;32mFalse\u001b[0m\u001b[1;33m)\u001b[0m\u001b[1;33m\u001b[0m\u001b[1;33m\u001b[0m\u001b[0m\n\u001b[0;32m    166\u001b[0m     \u001b[1;32melse\u001b[0m\u001b[1;33m:\u001b[0m\u001b[1;33m\u001b[0m\u001b[1;33m\u001b[0m\u001b[0m\n\u001b[1;32m--> 167\u001b[1;33m         \u001b[0mtree\u001b[0m\u001b[1;33m.\u001b[0m\u001b[0mfit\u001b[0m\u001b[1;33m(\u001b[0m\u001b[0mX\u001b[0m\u001b[1;33m,\u001b[0m \u001b[0my\u001b[0m\u001b[1;33m,\u001b[0m \u001b[0msample_weight\u001b[0m\u001b[1;33m=\u001b[0m\u001b[0msample_weight\u001b[0m\u001b[1;33m,\u001b[0m \u001b[0mcheck_input\u001b[0m\u001b[1;33m=\u001b[0m\u001b[1;32mFalse\u001b[0m\u001b[1;33m)\u001b[0m\u001b[1;33m\u001b[0m\u001b[1;33m\u001b[0m\u001b[0m\n\u001b[0m\u001b[0;32m    168\u001b[0m \u001b[1;33m\u001b[0m\u001b[0m\n\u001b[0;32m    169\u001b[0m     \u001b[1;32mreturn\u001b[0m \u001b[0mtree\u001b[0m\u001b[1;33m\u001b[0m\u001b[1;33m\u001b[0m\u001b[0m\n",
      "\u001b[1;32m~\\Anaconda3\\envs\\cogs_118a\\lib\\site-packages\\sklearn\\tree\\_classes.py\u001b[0m in \u001b[0;36mfit\u001b[1;34m(self, X, y, sample_weight, check_input, X_idx_sorted)\u001b[0m\n\u001b[0;32m    875\u001b[0m             \u001b[0msample_weight\u001b[0m\u001b[1;33m=\u001b[0m\u001b[0msample_weight\u001b[0m\u001b[1;33m,\u001b[0m\u001b[1;33m\u001b[0m\u001b[1;33m\u001b[0m\u001b[0m\n\u001b[0;32m    876\u001b[0m             \u001b[0mcheck_input\u001b[0m\u001b[1;33m=\u001b[0m\u001b[0mcheck_input\u001b[0m\u001b[1;33m,\u001b[0m\u001b[1;33m\u001b[0m\u001b[1;33m\u001b[0m\u001b[0m\n\u001b[1;32m--> 877\u001b[1;33m             X_idx_sorted=X_idx_sorted)\n\u001b[0m\u001b[0;32m    878\u001b[0m         \u001b[1;32mreturn\u001b[0m \u001b[0mself\u001b[0m\u001b[1;33m\u001b[0m\u001b[1;33m\u001b[0m\u001b[0m\n\u001b[0;32m    879\u001b[0m \u001b[1;33m\u001b[0m\u001b[0m\n",
      "\u001b[1;32m~\\Anaconda3\\envs\\cogs_118a\\lib\\site-packages\\sklearn\\tree\\_classes.py\u001b[0m in \u001b[0;36mfit\u001b[1;34m(self, X, y, sample_weight, check_input, X_idx_sorted)\u001b[0m\n\u001b[0;32m    228\u001b[0m                                  \u001b[1;34m\"greater than 1 or a float in (0.0, 1.0]; \"\u001b[0m\u001b[1;33m\u001b[0m\u001b[1;33m\u001b[0m\u001b[0m\n\u001b[0;32m    229\u001b[0m                                  \u001b[1;34m\"got the float %s\"\u001b[0m\u001b[1;33m\u001b[0m\u001b[1;33m\u001b[0m\u001b[0m\n\u001b[1;32m--> 230\u001b[1;33m                                  % self.min_samples_split)\n\u001b[0m\u001b[0;32m    231\u001b[0m             \u001b[0mmin_samples_split\u001b[0m \u001b[1;33m=\u001b[0m \u001b[0mint\u001b[0m\u001b[1;33m(\u001b[0m\u001b[0mceil\u001b[0m\u001b[1;33m(\u001b[0m\u001b[0mself\u001b[0m\u001b[1;33m.\u001b[0m\u001b[0mmin_samples_split\u001b[0m \u001b[1;33m*\u001b[0m \u001b[0mn_samples\u001b[0m\u001b[1;33m)\u001b[0m\u001b[1;33m)\u001b[0m\u001b[1;33m\u001b[0m\u001b[1;33m\u001b[0m\u001b[0m\n\u001b[0;32m    232\u001b[0m             \u001b[0mmin_samples_split\u001b[0m \u001b[1;33m=\u001b[0m \u001b[0mmax\u001b[0m\u001b[1;33m(\u001b[0m\u001b[1;36m2\u001b[0m\u001b[1;33m,\u001b[0m \u001b[0mmin_samples_split\u001b[0m\u001b[1;33m)\u001b[0m\u001b[1;33m\u001b[0m\u001b[1;33m\u001b[0m\u001b[0m\n",
      "\u001b[1;31mValueError\u001b[0m: min_samples_split must be an integer greater than 1 or a float in (0.0, 1.0]; got the float 13.838352503098047"
     ]
    }
   ],
   "source": [
    "results_dic = run_core_loop()"
   ]
  },
  {
   "cell_type": "code",
   "execution_count": 28,
   "metadata": {},
   "outputs": [],
   "source": [
    "def get_part_str(part):\n",
    "    return ' partion_' + str(int(round((100*(1-part['partion']))))) + '/' +str(int(round((100*part['partion'])))) + ' '"
   ]
  },
  {
   "cell_type": "code",
   "execution_count": 29,
   "metadata": {},
   "outputs": [
    {
     "data": {
      "text/plain": [
       "dict_keys(['KNN', 'SVM'])"
      ]
     },
     "execution_count": 29,
     "metadata": {},
     "output_type": "execute_result"
    }
   ],
   "source": [
    "classifiers.keys()"
   ]
  },
  {
   "cell_type": "code",
   "execution_count": 30,
   "metadata": {},
   "outputs": [],
   "source": [
    "columns = [ classifier + get_part_str(part) + auc for classifier in classifiers.keys() for part in results_dic.values() for auc in ['test_auc','train_auc','val_auc'] ]\n",
    "columns += ([classifier+ ' mean ' + auc for classifier in classifiers.keys() for auc in ['test_auc','train_auc','val_auc']])"
   ]
  },
  {
   "cell_type": "code",
   "execution_count": 31,
   "metadata": {},
   "outputs": [],
   "source": [
    "from statistics import mean \n"
   ]
  },
  {
   "cell_type": "code",
   "execution_count": 32,
   "metadata": {},
   "outputs": [
    {
     "data": {
      "text/plain": [
       "Index(['KNN partion_80/20 test_auc', 'KNN partion_80/20 train_auc',\n",
       "       'KNN partion_80/20 val_auc', 'KNN partion_50/50 test_auc',\n",
       "       'KNN partion_50/50 train_auc', 'KNN partion_50/50 val_auc',\n",
       "       'KNN partion_20/80 test_auc', 'KNN partion_20/80 train_auc',\n",
       "       'KNN partion_20/80 val_auc', 'SVM partion_80/20 test_auc',\n",
       "       'SVM partion_80/20 train_auc', 'SVM partion_80/20 val_auc',\n",
       "       'SVM partion_50/50 test_auc', 'SVM partion_50/50 train_auc',\n",
       "       'SVM partion_50/50 val_auc', 'SVM partion_20/80 test_auc',\n",
       "       'SVM partion_20/80 train_auc', 'SVM partion_20/80 val_auc',\n",
       "       'KNN mean test_auc', 'KNN mean train_auc', 'KNN mean val_auc',\n",
       "       'SVM mean test_auc', 'SVM mean train_auc', 'SVM mean val_auc'],\n",
       "      dtype='object')"
      ]
     },
     "execution_count": 32,
     "metadata": {},
     "output_type": "execute_result"
    }
   ],
   "source": [
    "final_summery = pd.DataFrame(columns=columns, index=results_dic[0]['datasets'].keys())\n",
    "final_summery.columns"
   ]
  },
  {
   "cell_type": "code",
   "execution_count": 33,
   "metadata": {},
   "outputs": [
    {
     "data": {
      "text/html": [
       "<div>\n",
       "<style scoped>\n",
       "    .dataframe tbody tr th:only-of-type {\n",
       "        vertical-align: middle;\n",
       "    }\n",
       "\n",
       "    .dataframe tbody tr th {\n",
       "        vertical-align: top;\n",
       "    }\n",
       "\n",
       "    .dataframe thead th {\n",
       "        text-align: right;\n",
       "    }\n",
       "</style>\n",
       "<table border=\"1\" class=\"dataframe\">\n",
       "  <thead>\n",
       "    <tr style=\"text-align: right;\">\n",
       "      <th></th>\n",
       "      <th>KNN partion_80/20 test_auc</th>\n",
       "      <th>KNN partion_80/20 train_auc</th>\n",
       "      <th>KNN partion_80/20 val_auc</th>\n",
       "      <th>KNN partion_50/50 test_auc</th>\n",
       "      <th>KNN partion_50/50 train_auc</th>\n",
       "      <th>KNN partion_50/50 val_auc</th>\n",
       "      <th>KNN partion_20/80 test_auc</th>\n",
       "      <th>KNN partion_20/80 train_auc</th>\n",
       "      <th>KNN partion_20/80 val_auc</th>\n",
       "      <th>SVM partion_80/20 test_auc</th>\n",
       "      <th>...</th>\n",
       "      <th>SVM partion_50/50 val_auc</th>\n",
       "      <th>SVM partion_20/80 test_auc</th>\n",
       "      <th>SVM partion_20/80 train_auc</th>\n",
       "      <th>SVM partion_20/80 val_auc</th>\n",
       "      <th>KNN mean test_auc</th>\n",
       "      <th>KNN mean train_auc</th>\n",
       "      <th>KNN mean val_auc</th>\n",
       "      <th>SVM mean test_auc</th>\n",
       "      <th>SVM mean train_auc</th>\n",
       "      <th>SVM mean val_auc</th>\n",
       "    </tr>\n",
       "  </thead>\n",
       "  <tbody>\n",
       "    <tr>\n",
       "      <th>tic_tac</th>\n",
       "      <td>NaN</td>\n",
       "      <td>NaN</td>\n",
       "      <td>NaN</td>\n",
       "      <td>NaN</td>\n",
       "      <td>NaN</td>\n",
       "      <td>NaN</td>\n",
       "      <td>NaN</td>\n",
       "      <td>NaN</td>\n",
       "      <td>NaN</td>\n",
       "      <td>NaN</td>\n",
       "      <td>...</td>\n",
       "      <td>NaN</td>\n",
       "      <td>NaN</td>\n",
       "      <td>NaN</td>\n",
       "      <td>NaN</td>\n",
       "      <td>NaN</td>\n",
       "      <td>NaN</td>\n",
       "      <td>NaN</td>\n",
       "      <td>NaN</td>\n",
       "      <td>NaN</td>\n",
       "      <td>NaN</td>\n",
       "    </tr>\n",
       "    <tr>\n",
       "      <th>adult</th>\n",
       "      <td>NaN</td>\n",
       "      <td>NaN</td>\n",
       "      <td>NaN</td>\n",
       "      <td>NaN</td>\n",
       "      <td>NaN</td>\n",
       "      <td>NaN</td>\n",
       "      <td>NaN</td>\n",
       "      <td>NaN</td>\n",
       "      <td>NaN</td>\n",
       "      <td>NaN</td>\n",
       "      <td>...</td>\n",
       "      <td>NaN</td>\n",
       "      <td>NaN</td>\n",
       "      <td>NaN</td>\n",
       "      <td>NaN</td>\n",
       "      <td>NaN</td>\n",
       "      <td>NaN</td>\n",
       "      <td>NaN</td>\n",
       "      <td>NaN</td>\n",
       "      <td>NaN</td>\n",
       "      <td>NaN</td>\n",
       "    </tr>\n",
       "    <tr>\n",
       "      <th>cloud</th>\n",
       "      <td>NaN</td>\n",
       "      <td>NaN</td>\n",
       "      <td>NaN</td>\n",
       "      <td>NaN</td>\n",
       "      <td>NaN</td>\n",
       "      <td>NaN</td>\n",
       "      <td>NaN</td>\n",
       "      <td>NaN</td>\n",
       "      <td>NaN</td>\n",
       "      <td>NaN</td>\n",
       "      <td>...</td>\n",
       "      <td>NaN</td>\n",
       "      <td>NaN</td>\n",
       "      <td>NaN</td>\n",
       "      <td>NaN</td>\n",
       "      <td>NaN</td>\n",
       "      <td>NaN</td>\n",
       "      <td>NaN</td>\n",
       "      <td>NaN</td>\n",
       "      <td>NaN</td>\n",
       "      <td>NaN</td>\n",
       "    </tr>\n",
       "    <tr>\n",
       "      <th>my_dota</th>\n",
       "      <td>NaN</td>\n",
       "      <td>NaN</td>\n",
       "      <td>NaN</td>\n",
       "      <td>NaN</td>\n",
       "      <td>NaN</td>\n",
       "      <td>NaN</td>\n",
       "      <td>NaN</td>\n",
       "      <td>NaN</td>\n",
       "      <td>NaN</td>\n",
       "      <td>NaN</td>\n",
       "      <td>...</td>\n",
       "      <td>NaN</td>\n",
       "      <td>NaN</td>\n",
       "      <td>NaN</td>\n",
       "      <td>NaN</td>\n",
       "      <td>NaN</td>\n",
       "      <td>NaN</td>\n",
       "      <td>NaN</td>\n",
       "      <td>NaN</td>\n",
       "      <td>NaN</td>\n",
       "      <td>NaN</td>\n",
       "    </tr>\n",
       "    <tr>\n",
       "      <th>uci_data</th>\n",
       "      <td>NaN</td>\n",
       "      <td>NaN</td>\n",
       "      <td>NaN</td>\n",
       "      <td>NaN</td>\n",
       "      <td>NaN</td>\n",
       "      <td>NaN</td>\n",
       "      <td>NaN</td>\n",
       "      <td>NaN</td>\n",
       "      <td>NaN</td>\n",
       "      <td>NaN</td>\n",
       "      <td>...</td>\n",
       "      <td>NaN</td>\n",
       "      <td>NaN</td>\n",
       "      <td>NaN</td>\n",
       "      <td>NaN</td>\n",
       "      <td>NaN</td>\n",
       "      <td>NaN</td>\n",
       "      <td>NaN</td>\n",
       "      <td>NaN</td>\n",
       "      <td>NaN</td>\n",
       "      <td>NaN</td>\n",
       "    </tr>\n",
       "  </tbody>\n",
       "</table>\n",
       "<p>5 rows × 24 columns</p>\n",
       "</div>"
      ],
      "text/plain": [
       "         KNN partion_80/20 test_auc KNN partion_80/20 train_auc  \\\n",
       "tic_tac                         NaN                         NaN   \n",
       "adult                           NaN                         NaN   \n",
       "cloud                           NaN                         NaN   \n",
       "my_dota                         NaN                         NaN   \n",
       "uci_data                        NaN                         NaN   \n",
       "\n",
       "         KNN partion_80/20 val_auc KNN partion_50/50 test_auc  \\\n",
       "tic_tac                        NaN                        NaN   \n",
       "adult                          NaN                        NaN   \n",
       "cloud                          NaN                        NaN   \n",
       "my_dota                        NaN                        NaN   \n",
       "uci_data                       NaN                        NaN   \n",
       "\n",
       "         KNN partion_50/50 train_auc KNN partion_50/50 val_auc  \\\n",
       "tic_tac                          NaN                       NaN   \n",
       "adult                            NaN                       NaN   \n",
       "cloud                            NaN                       NaN   \n",
       "my_dota                          NaN                       NaN   \n",
       "uci_data                         NaN                       NaN   \n",
       "\n",
       "         KNN partion_20/80 test_auc KNN partion_20/80 train_auc  \\\n",
       "tic_tac                         NaN                         NaN   \n",
       "adult                           NaN                         NaN   \n",
       "cloud                           NaN                         NaN   \n",
       "my_dota                         NaN                         NaN   \n",
       "uci_data                        NaN                         NaN   \n",
       "\n",
       "         KNN partion_20/80 val_auc SVM partion_80/20 test_auc  ...  \\\n",
       "tic_tac                        NaN                        NaN  ...   \n",
       "adult                          NaN                        NaN  ...   \n",
       "cloud                          NaN                        NaN  ...   \n",
       "my_dota                        NaN                        NaN  ...   \n",
       "uci_data                       NaN                        NaN  ...   \n",
       "\n",
       "         SVM partion_50/50 val_auc SVM partion_20/80 test_auc  \\\n",
       "tic_tac                        NaN                        NaN   \n",
       "adult                          NaN                        NaN   \n",
       "cloud                          NaN                        NaN   \n",
       "my_dota                        NaN                        NaN   \n",
       "uci_data                       NaN                        NaN   \n",
       "\n",
       "         SVM partion_20/80 train_auc SVM partion_20/80 val_auc  \\\n",
       "tic_tac                          NaN                       NaN   \n",
       "adult                            NaN                       NaN   \n",
       "cloud                            NaN                       NaN   \n",
       "my_dota                          NaN                       NaN   \n",
       "uci_data                         NaN                       NaN   \n",
       "\n",
       "         KNN mean test_auc KNN mean train_auc KNN mean val_auc  \\\n",
       "tic_tac                NaN                NaN              NaN   \n",
       "adult                  NaN                NaN              NaN   \n",
       "cloud                  NaN                NaN              NaN   \n",
       "my_dota                NaN                NaN              NaN   \n",
       "uci_data               NaN                NaN              NaN   \n",
       "\n",
       "         SVM mean test_auc SVM mean train_auc SVM mean val_auc  \n",
       "tic_tac                NaN                NaN              NaN  \n",
       "adult                  NaN                NaN              NaN  \n",
       "cloud                  NaN                NaN              NaN  \n",
       "my_dota                NaN                NaN              NaN  \n",
       "uci_data               NaN                NaN              NaN  \n",
       "\n",
       "[5 rows x 24 columns]"
      ]
     },
     "execution_count": 33,
     "metadata": {},
     "output_type": "execute_result"
    }
   ],
   "source": [
    "final_summery"
   ]
  },
  {
   "cell_type": "code",
   "execution_count": 34,
   "metadata": {},
   "outputs": [],
   "source": [
    "avreges_names = ([classifier+ ' mean ' + auc for classifier in classifiers.keys() for auc in ['test_auc','train_auc','val_auc']])"
   ]
  },
  {
   "cell_type": "code",
   "execution_count": 35,
   "metadata": {
    "scrolled": false
   },
   "outputs": [],
   "source": [
    "for part in results_dic.values():\n",
    "    for dataset in part['datasets']:\n",
    "        row = final_summery.loc[dataset]\n",
    "        dataset = part['datasets'][dataset]\n",
    "        for classifier in dataset['classifiers']:\n",
    "            columns_head = classifier + get_part_str(part)\n",
    "            classifier = dataset['classifiers'][classifier]\n",
    "            row[columns_head + 'test_auc'] = mean(classifier['test_auc'])\n",
    "            row[columns_head + 'train_auc'] = mean(classifier['train_auc'])\n",
    "            row[columns_head + 'val_auc'] = mean(classifier['val_auc'])\n",
    "            \n",
    "        for name in avreges_names:\n",
    "            row[name] = row.filter(regex='^'+name.split()[0]+'.*partion_.*' + name.split()[2]).mean()\n"
   ]
  },
  {
   "cell_type": "code",
   "execution_count": null,
   "metadata": {},
   "outputs": [],
   "source": []
  },
  {
   "cell_type": "code",
   "execution_count": 36,
   "metadata": {},
   "outputs": [
    {
     "data": {
      "text/plain": [
       "['KNN mean test_auc',\n",
       " 'KNN mean train_auc',\n",
       " 'KNN mean val_auc',\n",
       " 'SVM mean test_auc',\n",
       " 'SVM mean train_auc',\n",
       " 'SVM mean val_auc']"
      ]
     },
     "execution_count": 36,
     "metadata": {},
     "output_type": "execute_result"
    }
   ],
   "source": [
    "([classifier+ ' mean ' + auc for classifier in classifiers.keys() for auc in ['test_auc','train_auc','val_auc']])"
   ]
  },
  {
   "cell_type": "code",
   "execution_count": 37,
   "metadata": {},
   "outputs": [
    {
     "data": {
      "text/plain": [
       "0.7656018388095057"
      ]
     },
     "execution_count": 37,
     "metadata": {},
     "output_type": "execute_result"
    }
   ],
   "source": [
    "final_summery.loc['tic_tac'].filter(regex='^KNN.*test_auc').mean()"
   ]
  },
  {
   "cell_type": "code",
   "execution_count": 38,
   "metadata": {},
   "outputs": [
    {
     "data": {
      "text/html": [
       "<div>\n",
       "<style scoped>\n",
       "    .dataframe tbody tr th:only-of-type {\n",
       "        vertical-align: middle;\n",
       "    }\n",
       "\n",
       "    .dataframe tbody tr th {\n",
       "        vertical-align: top;\n",
       "    }\n",
       "\n",
       "    .dataframe thead th {\n",
       "        text-align: right;\n",
       "    }\n",
       "</style>\n",
       "<table border=\"1\" class=\"dataframe\">\n",
       "  <thead>\n",
       "    <tr style=\"text-align: right;\">\n",
       "      <th></th>\n",
       "      <th>KNN partion_80/20 test_auc</th>\n",
       "      <th>KNN partion_80/20 train_auc</th>\n",
       "      <th>KNN partion_80/20 val_auc</th>\n",
       "      <th>KNN partion_50/50 test_auc</th>\n",
       "      <th>KNN partion_50/50 train_auc</th>\n",
       "      <th>KNN partion_50/50 val_auc</th>\n",
       "      <th>KNN partion_20/80 test_auc</th>\n",
       "      <th>KNN partion_20/80 train_auc</th>\n",
       "      <th>KNN partion_20/80 val_auc</th>\n",
       "      <th>SVM partion_80/20 test_auc</th>\n",
       "      <th>...</th>\n",
       "      <th>SVM partion_50/50 val_auc</th>\n",
       "      <th>SVM partion_20/80 test_auc</th>\n",
       "      <th>SVM partion_20/80 train_auc</th>\n",
       "      <th>SVM partion_20/80 val_auc</th>\n",
       "      <th>KNN mean test_auc</th>\n",
       "      <th>KNN mean train_auc</th>\n",
       "      <th>KNN mean val_auc</th>\n",
       "      <th>SVM mean test_auc</th>\n",
       "      <th>SVM mean train_auc</th>\n",
       "      <th>SVM mean val_auc</th>\n",
       "    </tr>\n",
       "  </thead>\n",
       "  <tbody>\n",
       "    <tr>\n",
       "      <th>tic_tac</th>\n",
       "      <td>0.769097</td>\n",
       "      <td>0.846173</td>\n",
       "      <td>0.799357</td>\n",
       "      <td>0.809325</td>\n",
       "      <td>0.885517</td>\n",
       "      <td>0.807272</td>\n",
       "      <td>0.718383</td>\n",
       "      <td>0.939797</td>\n",
       "      <td>0.738261</td>\n",
       "      <td>0.991319</td>\n",
       "      <td>...</td>\n",
       "      <td>0.869855</td>\n",
       "      <td>0.97827</td>\n",
       "      <td>0.989529</td>\n",
       "      <td>0.979084</td>\n",
       "      <td>0.765602</td>\n",
       "      <td>0.890496</td>\n",
       "      <td>0.78163</td>\n",
       "      <td>0.954373</td>\n",
       "      <td>0.953862</td>\n",
       "      <td>0.943553</td>\n",
       "    </tr>\n",
       "    <tr>\n",
       "      <th>adult</th>\n",
       "      <td>0.706667</td>\n",
       "      <td>0.761661</td>\n",
       "      <td>0.760016</td>\n",
       "      <td>0.761333</td>\n",
       "      <td>0.749341</td>\n",
       "      <td>0.748024</td>\n",
       "      <td>0.746467</td>\n",
       "      <td>0.757576</td>\n",
       "      <td>0.760943</td>\n",
       "      <td>0.72</td>\n",
       "      <td>...</td>\n",
       "      <td>0.748008</td>\n",
       "      <td>0.751455</td>\n",
       "      <td>0.754209</td>\n",
       "      <td>0.754209</td>\n",
       "      <td>0.738156</td>\n",
       "      <td>0.756192</td>\n",
       "      <td>0.756327</td>\n",
       "      <td>0.742485</td>\n",
       "      <td>0.765599</td>\n",
       "      <td>0.753793</td>\n",
       "    </tr>\n",
       "    <tr>\n",
       "      <th>cloud</th>\n",
       "      <td>0.726667</td>\n",
       "      <td>0.791673</td>\n",
       "      <td>0.76837</td>\n",
       "      <td>0.752</td>\n",
       "      <td>0.765313</td>\n",
       "      <td>0.746574</td>\n",
       "      <td>0.730673</td>\n",
       "      <td>0.791246</td>\n",
       "      <td>0.757576</td>\n",
       "      <td>0.75</td>\n",
       "      <td>...</td>\n",
       "      <td>0.799994</td>\n",
       "      <td>0.783042</td>\n",
       "      <td>0.880471</td>\n",
       "      <td>0.801347</td>\n",
       "      <td>0.736447</td>\n",
       "      <td>0.782744</td>\n",
       "      <td>0.757506</td>\n",
       "      <td>0.777681</td>\n",
       "      <td>0.844401</td>\n",
       "      <td>0.810168</td>\n",
       "    </tr>\n",
       "    <tr>\n",
       "      <th>my_dota</th>\n",
       "      <td>0.456667</td>\n",
       "      <td>0.720842</td>\n",
       "      <td>0.545001</td>\n",
       "      <td>0.494667</td>\n",
       "      <td>0.592622</td>\n",
       "      <td>0.528017</td>\n",
       "      <td>0.488778</td>\n",
       "      <td>0.560606</td>\n",
       "      <td>0.535354</td>\n",
       "      <td>0.506667</td>\n",
       "      <td>...</td>\n",
       "      <td>0.530662</td>\n",
       "      <td>0.493766</td>\n",
       "      <td>0.676768</td>\n",
       "      <td>0.538721</td>\n",
       "      <td>0.480037</td>\n",
       "      <td>0.62469</td>\n",
       "      <td>0.536124</td>\n",
       "      <td>0.510366</td>\n",
       "      <td>0.888897</td>\n",
       "      <td>0.545356</td>\n",
       "    </tr>\n",
       "    <tr>\n",
       "      <th>uci_data</th>\n",
       "      <td>0.5</td>\n",
       "      <td>0.599572</td>\n",
       "      <td>0.52664</td>\n",
       "      <td>0.493333</td>\n",
       "      <td>0.710707</td>\n",
       "      <td>0.548017</td>\n",
       "      <td>0.485453</td>\n",
       "      <td>0.648148</td>\n",
       "      <td>0.579125</td>\n",
       "      <td>0.53</td>\n",
       "      <td>...</td>\n",
       "      <td>0.540033</td>\n",
       "      <td>0.490441</td>\n",
       "      <td>0.989899</td>\n",
       "      <td>0.558923</td>\n",
       "      <td>0.492929</td>\n",
       "      <td>0.652809</td>\n",
       "      <td>0.551261</td>\n",
       "      <td>0.502369</td>\n",
       "      <td>0.864303</td>\n",
       "      <td>0.541312</td>\n",
       "    </tr>\n",
       "  </tbody>\n",
       "</table>\n",
       "<p>5 rows × 24 columns</p>\n",
       "</div>"
      ],
      "text/plain": [
       "         KNN partion_80/20 test_auc KNN partion_80/20 train_auc  \\\n",
       "tic_tac                    0.769097                    0.846173   \n",
       "adult                      0.706667                    0.761661   \n",
       "cloud                      0.726667                    0.791673   \n",
       "my_dota                    0.456667                    0.720842   \n",
       "uci_data                        0.5                    0.599572   \n",
       "\n",
       "         KNN partion_80/20 val_auc KNN partion_50/50 test_auc  \\\n",
       "tic_tac                   0.799357                   0.809325   \n",
       "adult                     0.760016                   0.761333   \n",
       "cloud                      0.76837                      0.752   \n",
       "my_dota                   0.545001                   0.494667   \n",
       "uci_data                   0.52664                   0.493333   \n",
       "\n",
       "         KNN partion_50/50 train_auc KNN partion_50/50 val_auc  \\\n",
       "tic_tac                     0.885517                  0.807272   \n",
       "adult                       0.749341                  0.748024   \n",
       "cloud                       0.765313                  0.746574   \n",
       "my_dota                     0.592622                  0.528017   \n",
       "uci_data                    0.710707                  0.548017   \n",
       "\n",
       "         KNN partion_20/80 test_auc KNN partion_20/80 train_auc  \\\n",
       "tic_tac                    0.718383                    0.939797   \n",
       "adult                      0.746467                    0.757576   \n",
       "cloud                      0.730673                    0.791246   \n",
       "my_dota                    0.488778                    0.560606   \n",
       "uci_data                   0.485453                    0.648148   \n",
       "\n",
       "         KNN partion_20/80 val_auc SVM partion_80/20 test_auc  ...  \\\n",
       "tic_tac                   0.738261                   0.991319  ...   \n",
       "adult                     0.760943                       0.72  ...   \n",
       "cloud                     0.757576                       0.75  ...   \n",
       "my_dota                   0.535354                   0.506667  ...   \n",
       "uci_data                  0.579125                       0.53  ...   \n",
       "\n",
       "         SVM partion_50/50 val_auc SVM partion_20/80 test_auc  \\\n",
       "tic_tac                   0.869855                    0.97827   \n",
       "adult                     0.748008                   0.751455   \n",
       "cloud                     0.799994                   0.783042   \n",
       "my_dota                   0.530662                   0.493766   \n",
       "uci_data                  0.540033                   0.490441   \n",
       "\n",
       "         SVM partion_20/80 train_auc SVM partion_20/80 val_auc  \\\n",
       "tic_tac                     0.989529                  0.979084   \n",
       "adult                       0.754209                  0.754209   \n",
       "cloud                       0.880471                  0.801347   \n",
       "my_dota                     0.676768                  0.538721   \n",
       "uci_data                    0.989899                  0.558923   \n",
       "\n",
       "         KNN mean test_auc KNN mean train_auc KNN mean val_auc  \\\n",
       "tic_tac           0.765602           0.890496          0.78163   \n",
       "adult             0.738156           0.756192         0.756327   \n",
       "cloud             0.736447           0.782744         0.757506   \n",
       "my_dota           0.480037            0.62469         0.536124   \n",
       "uci_data          0.492929           0.652809         0.551261   \n",
       "\n",
       "         SVM mean test_auc SVM mean train_auc SVM mean val_auc  \n",
       "tic_tac           0.954373           0.953862         0.943553  \n",
       "adult             0.742485           0.765599         0.753793  \n",
       "cloud             0.777681           0.844401         0.810168  \n",
       "my_dota           0.510366           0.888897         0.545356  \n",
       "uci_data          0.502369           0.864303         0.541312  \n",
       "\n",
       "[5 rows x 24 columns]"
      ]
     },
     "execution_count": 38,
     "metadata": {},
     "output_type": "execute_result"
    }
   ],
   "source": [
    "final_summery"
   ]
  },
  {
   "cell_type": "code",
   "execution_count": 39,
   "metadata": {},
   "outputs": [
    {
     "data": {
      "text/plain": [
       "SVM mean test_auc     0.697455\n",
       "SVM mean train_auc    0.863412\n",
       "SVM mean val_auc      0.718836\n",
       "dtype: float64"
      ]
     },
     "execution_count": 39,
     "metadata": {},
     "output_type": "execute_result"
    }
   ],
   "source": [
    "final_summery.filter(regex='^SVM mean .*').mean()"
   ]
  },
  {
   "cell_type": "code",
   "execution_count": 40,
   "metadata": {},
   "outputs": [
    {
     "data": {
      "text/html": [
       "<div>\n",
       "<style scoped>\n",
       "    .dataframe tbody tr th:only-of-type {\n",
       "        vertical-align: middle;\n",
       "    }\n",
       "\n",
       "    .dataframe tbody tr th {\n",
       "        vertical-align: top;\n",
       "    }\n",
       "\n",
       "    .dataframe thead th {\n",
       "        text-align: right;\n",
       "    }\n",
       "</style>\n",
       "<table border=\"1\" class=\"dataframe\">\n",
       "  <thead>\n",
       "    <tr style=\"text-align: right;\">\n",
       "      <th></th>\n",
       "      <th>KNN partion_80/20 test_auc</th>\n",
       "      <th>KNN partion_50/50 test_auc</th>\n",
       "      <th>KNN partion_20/80 test_auc</th>\n",
       "      <th>SVM partion_80/20 test_auc</th>\n",
       "      <th>SVM partion_50/50 test_auc</th>\n",
       "      <th>SVM partion_20/80 test_auc</th>\n",
       "      <th>KNN mean test_auc</th>\n",
       "      <th>SVM mean test_auc</th>\n",
       "    </tr>\n",
       "  </thead>\n",
       "  <tbody>\n",
       "    <tr>\n",
       "      <th>tic_tac</th>\n",
       "      <td>0.769097</td>\n",
       "      <td>0.809325</td>\n",
       "      <td>0.718383</td>\n",
       "      <td>0.991319</td>\n",
       "      <td>0.893528</td>\n",
       "      <td>0.97827</td>\n",
       "      <td>0.765602</td>\n",
       "      <td>0.954373</td>\n",
       "    </tr>\n",
       "    <tr>\n",
       "      <th>adult</th>\n",
       "      <td>0.706667</td>\n",
       "      <td>0.761333</td>\n",
       "      <td>0.746467</td>\n",
       "      <td>0.72</td>\n",
       "      <td>0.756</td>\n",
       "      <td>0.751455</td>\n",
       "      <td>0.738156</td>\n",
       "      <td>0.742485</td>\n",
       "    </tr>\n",
       "    <tr>\n",
       "      <th>cloud</th>\n",
       "      <td>0.726667</td>\n",
       "      <td>0.752</td>\n",
       "      <td>0.730673</td>\n",
       "      <td>0.75</td>\n",
       "      <td>0.8</td>\n",
       "      <td>0.783042</td>\n",
       "      <td>0.736447</td>\n",
       "      <td>0.777681</td>\n",
       "    </tr>\n",
       "    <tr>\n",
       "      <th>my_dota</th>\n",
       "      <td>0.456667</td>\n",
       "      <td>0.494667</td>\n",
       "      <td>0.488778</td>\n",
       "      <td>0.506667</td>\n",
       "      <td>0.530667</td>\n",
       "      <td>0.493766</td>\n",
       "      <td>0.480037</td>\n",
       "      <td>0.510366</td>\n",
       "    </tr>\n",
       "    <tr>\n",
       "      <th>uci_data</th>\n",
       "      <td>0.5</td>\n",
       "      <td>0.493333</td>\n",
       "      <td>0.485453</td>\n",
       "      <td>0.53</td>\n",
       "      <td>0.486667</td>\n",
       "      <td>0.490441</td>\n",
       "      <td>0.492929</td>\n",
       "      <td>0.502369</td>\n",
       "    </tr>\n",
       "  </tbody>\n",
       "</table>\n",
       "</div>"
      ],
      "text/plain": [
       "         KNN partion_80/20 test_auc KNN partion_50/50 test_auc  \\\n",
       "tic_tac                    0.769097                   0.809325   \n",
       "adult                      0.706667                   0.761333   \n",
       "cloud                      0.726667                      0.752   \n",
       "my_dota                    0.456667                   0.494667   \n",
       "uci_data                        0.5                   0.493333   \n",
       "\n",
       "         KNN partion_20/80 test_auc SVM partion_80/20 test_auc  \\\n",
       "tic_tac                    0.718383                   0.991319   \n",
       "adult                      0.746467                       0.72   \n",
       "cloud                      0.730673                       0.75   \n",
       "my_dota                    0.488778                   0.506667   \n",
       "uci_data                   0.485453                       0.53   \n",
       "\n",
       "         SVM partion_50/50 test_auc SVM partion_20/80 test_auc  \\\n",
       "tic_tac                    0.893528                    0.97827   \n",
       "adult                         0.756                   0.751455   \n",
       "cloud                           0.8                   0.783042   \n",
       "my_dota                    0.530667                   0.493766   \n",
       "uci_data                   0.486667                   0.490441   \n",
       "\n",
       "         KNN mean test_auc SVM mean test_auc  \n",
       "tic_tac           0.765602          0.954373  \n",
       "adult             0.738156          0.742485  \n",
       "cloud             0.736447          0.777681  \n",
       "my_dota           0.480037          0.510366  \n",
       "uci_data          0.492929          0.502369  "
      ]
     },
     "execution_count": 40,
     "metadata": {},
     "output_type": "execute_result"
    }
   ],
   "source": [
    "final_summery[[c for c in columns if 'test_auc' in c]]"
   ]
  },
  {
   "cell_type": "code",
   "execution_count": 43,
   "metadata": {},
   "outputs": [
    {
     "data": {
      "text/plain": [
       "<matplotlib.axes._subplots.AxesSubplot at 0x1a7b8d291d0>"
      ]
     },
     "execution_count": 43,
     "metadata": {},
     "output_type": "execute_result"
    },
    {
     "data": {
      "image/png": "[encoded data removed]",
      "text/plain": [
       "<Figure size 432x288 with 1 Axes>"
      ]
     },
     "metadata": {
      "needs_background": "light"
     },
     "output_type": "display_data"
    },
    {
     "data": {
      "image/png": "[encoded data removed]",
      "text/plain": [
       "<Figure size 432x288 with 1 Axes>"
      ]
     },
     "metadata": {
      "needs_background": "light"
     },
     "output_type": "display_data"
    },
    {
     "data": {
      "image/png": "[encoded data removed]",
      "text/plain": [
       "<Figure size 432x288 with 1 Axes>"
      ]
     },
     "metadata": {
      "needs_background": "light"
     },
     "output_type": "display_data"
    },
    {
     "data": {
      "image/png": "[encoded data removed]",
      "text/plain": [
       "<Figure size 432x288 with 1 Axes>"
      ]
     },
     "metadata": {
      "needs_background": "light"
     },
     "output_type": "display_data"
    }
   ],
   "source": [
    "final_summery[[c for c in columns if 'mean test_auc' in c]].plot(subplots=False)\n",
    "final_summery[[c for c in columns if 'partion_80/20 test_auc' in c]].plot(subplots=False)\n",
    "final_summery[[c for c in columns if 'partion_50/50 test_auc' in c]].plot(subplots=False)\n",
    "final_summery[[c for c in columns if 'partion_20/80 test_auc' in c]].plot(subplots=False)\n"
   ]
  },
  {
   "cell_type": "code",
   "execution_count": null,
   "metadata": {},
   "outputs": [],
   "source": []
  },
  {
   "cell_type": "code",
   "execution_count": null,
   "metadata": {},
   "outputs": [],
   "source": []
  },
  {
   "cell_type": "code",
   "execution_count": 42,
   "metadata": {},
   "outputs": [],
   "source": [
    "#plot_grid_search_validation_curve(grid, 'knn__p', log=False, ylim=(.4, 1.02))\n",
    "#plot_grid_search_validation_curve(grid, 'knn__n_neighbors', log=True, ylim=(.4, 1.02))\n",
    "#parm = classifiers['KNN']['params'](X_train[0].shape[0])\n",
    "#scores = grid.cv_results_['mean_test_score'].reshape(len(parm['knn__n_neighbors']),len(parm['knn__p']))\n",
    "#ax = sns.heatmap(scores"
   ]
  },
  {
   "cell_type": "code",
   "execution_count": null,
   "metadata": {
    "scrolled": true
   },
   "outputs": [],
   "source": []
  },
  {
   "cell_type": "code",
   "execution_count": null,
   "metadata": {},
   "outputs": [],
   "source": []
  },
  {
   "cell_type": "code",
   "execution_count": null,
   "metadata": {},
   "outputs": [],
   "source": []
  },
  {
   "cell_type": "code",
   "execution_count": null,
   "metadata": {},
   "outputs": [],
   "source": []
  },
  {
   "cell_type": "code",
   "execution_count": null,
   "metadata": {},
   "outputs": [],
   "source": []
  },
  {
   "cell_type": "code",
   "execution_count": null,
   "metadata": {},
   "outputs": [],
   "source": []
  },
  {
   "cell_type": "code",
   "execution_count": null,
   "metadata": {},
   "outputs": [],
   "source": []
  },
  {
   "cell_type": "code",
   "execution_count": null,
   "metadata": {},
   "outputs": [],
   "source": []
  },
  {
   "cell_type": "code",
   "execution_count": null,
   "metadata": {},
   "outputs": [],
   "source": []
  },
  {
   "cell_type": "code",
   "execution_count": null,
   "metadata": {},
   "outputs": [],
   "source": []
  },
  {
   "cell_type": "code",
   "execution_count": null,
   "metadata": {},
   "outputs": [],
   "source": []
  },
  {
   "cell_type": "code",
   "execution_count": null,
   "metadata": {},
   "outputs": [],
   "source": []
  }
 ],
 "metadata": {
  "kernelspec": {
   "display_name": "Python 3",
   "language": "python",
   "name": "python3"
  },
  "language_info": {
   "codemirror_mode": {
    "name": "ipython",
    "version": 3
   },
   "file_extension": ".py",
   "mimetype": "text/x-python",
   "name": "python",
   "nbconvert_exporter": "python",
   "pygments_lexer": "ipython3",
   "version": "3.6.10"
  }
 },
 "nbformat": 4,
 "nbformat_minor": 2
}
